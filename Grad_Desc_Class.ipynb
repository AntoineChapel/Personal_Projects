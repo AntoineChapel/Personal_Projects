{
 "cells": [
  {
   "cell_type": "markdown",
   "metadata": {},
   "source": [
    "# Gradient Descent algorithm for an affine function ax+b"
   ]
  },
  {
   "cell_type": "code",
   "execution_count": 33,
   "metadata": {},
   "outputs": [],
   "source": [
    "import numpy as np\n",
    "import matplotlib.pyplot as plt\n",
    "from sklearn.metrics import mean_squared_error\n",
    "from sklearn.metrics import r2_score\n",
    "from sklearn.model_selection import train_test_split\n",
    "\n",
    "class Gradient_Descent:\n",
    "    \n",
    "    def __init__(self, param_a, param_b, test_size=100, lr=0.00001, nb_iters=80, noise=False):\n",
    "        self.test_size = test_size\n",
    "        self.parameter_a = param_a\n",
    "        self.parameter_b = param_b\n",
    "        self.mse_hist=[]\n",
    "        self.bias_hist=[]\n",
    "        self.weight1_hist=[]\n",
    "        self.noise = noise\n",
    "        \n",
    "        self.X = np.random.randint(-10, 10, (self.test_size, 1)) + np.random.normal(loc=0, scale=1, size=(self.test_size, 1))\n",
    "        if noise == True:\n",
    "            self.e = 5*(np.random.normal(loc=0, scale=1, size=(self.test_size, 1)))\n",
    "        else:\n",
    "            self.e = np.zeros((self.test_size, 1))\n",
    "        self.y = self.e + (self.parameter_a*self.X + self.parameter_b)\n",
    "        \n",
    "        self.X_train, self.X_test, self.y_train, self.y_test = train_test_split(self.X, self.y, test_size=0.3, random_state=42)\n",
    "        \n",
    "        \n",
    "        self.weight_1 = np.random.randint(0, 10)\n",
    "        self.bias = np.random.randint(0, 10)\n",
    "        self.lr = lr\n",
    "        self.length = nb_iters\n",
    "        \n",
    "        \n",
    "    def optimize(self):\n",
    "        \n",
    "        for iteration in range(self.length):\n",
    "            pred = []\n",
    "            x = np.dot(self.X_train, self.weight_1) + self.bias\n",
    "            pred.append(x)\n",
    "            pred = np.array(pred).reshape(self.y_train.shape[0],1)\n",
    "\n",
    "            error = np.subtract(pred, self.y_train)\n",
    "            mse = mean_squared_error(self.y_train, pred)\n",
    "            self.mse_hist.append(mse)  \n",
    "            \n",
    "            slope_weight = (np.dot(self.X_train.T, error))/self.y_train.shape[0]\n",
    "            for iter_1 in range(1500):\n",
    "                self.weight_1 = self.weight_1 - self.lr*slope_weight\n",
    "            self.weight1_hist.append(self.weight_1)\n",
    "            \n",
    "            slope_bias = error/self.y_train.shape[0]\n",
    "            for iter_2 in range(5000):\n",
    "                for slope_bias_value in slope_bias:\n",
    "                    self.bias = self.bias - self.lr*slope_bias_value*5\n",
    "            self.bias_hist.append(self.bias)\n",
    "\n",
    "            plt.scatter(self.X_train, self.y_train)\n",
    "            t = np.linspace(-10, 10, 400)\n",
    "            a = self.parameter_a*(t)+self.parameter_b\n",
    "            b = float(self.weight_1)*(t) + float(self.bias)\n",
    "\n",
    "        plt.plot(t, b, 'b')    \n",
    "        plt.plot(t, a, 'r')  \n",
    "        plt.show()\n",
    "        \n",
    "        self.bias_hist=list(np.array(self.bias_hist).reshape(self.length,))\n",
    "        self.weight1_hist=list(np.array(self.weight1_hist).reshape(self.length,))\n",
    "        \n",
    "    def plot_params(self):\n",
    "        plt.plot(self.weight1_hist, label='Parameter a')\n",
    "        plt.plot(self.bias_hist, label='Parameter b')\n",
    "        plt.legend()\n",
    "        plt.show()\n",
    "   \n",
    "    def r2_score(self):\n",
    "        self.y_pred = np.dot(self.X_test, self.weight_1) + self.bias\n",
    "        score = r2_score(self.y_test, self.y_pred)\n",
    "        print(score)\n",
    "    \n",
    "    def params(self):\n",
    "        print(\"Parameter a: \" + str(float(self.weight_1)))\n",
    "        print(\"Parameter b: \" + str(float(self.bias)))\n",
    "        "
   ]
  },
  {
   "cell_type": "markdown",
   "metadata": {},
   "source": [
    "The Gradient_Descent class takes 6 parameters.\n",
    "\n",
    "Among those, 2 non-default parameters: \n",
    "param_a: the slope of the data line\n",
    "param_b: the intercept of the data line\n",
    "\n",
    "For example: param_a = -3, param_b = 5 ==> y = -3x + 5\n",
    "\n",
    "Then, 4 default parameters:\n",
    "\n",
    "test_size: number of data points (by default: 100)\n",
    "\n",
    "lr: learning_rate (by default: 0.00001)\n",
    "\n",
    "nb_iters: how long does the model train\n",
    "\n",
    "noise: whether the data is noisy (True/False)"
   ]
  },
  {
   "cell_type": "markdown",
   "metadata": {},
   "source": [
    "### Gradient descent on noiseless data"
   ]
  },
  {
   "cell_type": "code",
   "execution_count": 34,
   "metadata": {},
   "outputs": [],
   "source": [
    "noiseless_test = Gradient_Descent(2, 3)"
   ]
  },
  {
   "cell_type": "code",
   "execution_count": 35,
   "metadata": {},
   "outputs": [
    {
     "data": {
      "image/png": "[encoded data removed]",
      "text/plain": [
       "<Figure size 432x288 with 1 Axes>"
      ]
     },
     "metadata": {
      "needs_background": "light"
     },
     "output_type": "display_data"
    }
   ],
   "source": [
    "noiseless_test.optimize()"
   ]
  },
  {
   "cell_type": "code",
   "execution_count": 36,
   "metadata": {},
   "outputs": [
    {
     "data": {
      "image/png": "[encoded data removed]",
      "text/plain": [
       "<Figure size 432x288 with 1 Axes>"
      ]
     },
     "metadata": {
      "needs_background": "light"
     },
     "output_type": "display_data"
    }
   ],
   "source": [
    "noiseless_test.plot_params()"
   ]
  },
  {
   "cell_type": "code",
   "execution_count": 37,
   "metadata": {},
   "outputs": [
    {
     "name": "stdout",
     "output_type": "stream",
     "text": [
      "1.0\n"
     ]
    }
   ],
   "source": [
    "noiseless_test.r2_score()"
   ]
  },
  {
   "cell_type": "code",
   "execution_count": 38,
   "metadata": {},
   "outputs": [
    {
     "name": "stdout",
     "output_type": "stream",
     "text": [
      "Parameter a: 1.9999999999699138\n",
      "Parameter b: 2.999999999413684\n"
     ]
    }
   ],
   "source": [
    "noiseless_test.params()"
   ]
  },
  {
   "cell_type": "markdown",
   "metadata": {},
   "source": [
    "### Gradient descent on noisy data"
   ]
  },
  {
   "cell_type": "code",
   "execution_count": 39,
   "metadata": {},
   "outputs": [],
   "source": [
    "noisy_test = Gradient_Descent(-4, 2, noise=True)"
   ]
  },
  {
   "cell_type": "code",
   "execution_count": 40,
   "metadata": {},
   "outputs": [
    {
     "data": {
      "image/png": "[encoded data removed]",
      "text/plain": [
       "<Figure size 432x288 with 1 Axes>"
      ]
     },
     "metadata": {
      "needs_background": "light"
     },
     "output_type": "display_data"
    }
   ],
   "source": [
    "noisy_test.optimize()"
   ]
  },
  {
   "cell_type": "code",
   "execution_count": 41,
   "metadata": {},
   "outputs": [
    {
     "data": {
      "image/png": "[encoded data removed]",
      "text/plain": [
       "<Figure size 432x288 with 1 Axes>"
      ]
     },
     "metadata": {
      "needs_background": "light"
     },
     "output_type": "display_data"
    }
   ],
   "source": [
    "noisy_test.plot_params()"
   ]
  },
  {
   "cell_type": "code",
   "execution_count": 42,
   "metadata": {},
   "outputs": [
    {
     "name": "stdout",
     "output_type": "stream",
     "text": [
      "0.9665166745297462\n"
     ]
    }
   ],
   "source": [
    "noisy_test.r2_score()"
   ]
  },
  {
   "cell_type": "code",
   "execution_count": 43,
   "metadata": {},
   "outputs": [
    {
     "name": "stdout",
     "output_type": "stream",
     "text": [
      "Parameter a: -3.978703089937419\n",
      "Parameter b: 1.8874008074493767\n"
     ]
    }
   ],
   "source": [
    "noisy_test.params()"
   ]
  }
 ],
 "metadata": {
  "kernelspec": {
   "display_name": "Python 3",
   "language": "python",
   "name": "python3"
  },
  "language_info": {
   "codemirror_mode": {
    "name": "ipython",
    "version": 3
   },
   "file_extension": ".py",
   "mimetype": "text/x-python",
   "name": "python",
   "nbconvert_exporter": "python",
   "pygments_lexer": "ipython3",
   "version": "3.7.4"
  }
 },
 "nbformat": 4,
 "nbformat_minor": 2
}
