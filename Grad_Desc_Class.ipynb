{
 "cells": [
  {
   "cell_type": "code",
   "execution_count": 97,
   "metadata": {},
   "outputs": [],
   "source": [
    "import numpy as np\n",
    "import matplotlib.pyplot as plt\n",
    "from sklearn.metrics import mean_squared_error\n",
    "from sklearn.metrics import r2_score\n",
    "from sklearn.model_selection import train_test_split\n",
    "\n",
    "class Gradient_Descent:\n",
    "    \n",
    "    def __init__(self, test_size, param_a, param_b, lr, nb_iters, noise=True):\n",
    "        self.test_size = test_size\n",
    "        self.parameter_a = param_a\n",
    "        self.parameter_b = param_b\n",
    "        self.mse_hist=[]\n",
    "        self.bias_hist=[]\n",
    "        self.weight1_hist=[]\n",
    "        self.noise = noise\n",
    "        self.X = np.random.randint(-10, 10, (self.test_size, 1)) + np.random.normal(loc=0, scale=1, size=(self.test_size, 1))\n",
    "        if noise == True:\n",
    "            self.e = 5*(np.random.normal(loc=0, scale=1, size=(self.test_size, 1)))\n",
    "        else:\n",
    "            self.e = np.zeros((self.test_size, 1))\n",
    "        self.y = self.e + (self.parameter_a*self.X + self.parameter_b)\n",
    "        self.X_train, self.X_test, self.y_train, self.y_test = train_test_split(self.X, self.y, test_size=0.3, random_state=42)\n",
    "        self.weight_1 = np.random.randint(0, 10)\n",
    "        self.bias = np.random.randint(0, 10)\n",
    "        self.lr = lr\n",
    "        self.length = nb_iters\n",
    "        \n",
    "        \n",
    "    def optimize(self):\n",
    "        \n",
    "        for iteration in range(self.length):\n",
    "            pred = []\n",
    "            x = np.dot(self.X_train, self.weight_1) + self.bias\n",
    "            pred.append(x)\n",
    "            pred = np.array(pred).reshape(self.y_train.shape[0],1)\n",
    "\n",
    "            error = np.subtract(pred, self.y_train)\n",
    "            mse = mean_squared_error(self.y_train, pred)\n",
    "            self.mse_hist.append(mse)  \n",
    "            \n",
    "            slope_weight = (np.dot(self.X_train.T, error))/self.y_train.shape[0]\n",
    "            for iter_1 in range(1500):\n",
    "                self.weight_1 = self.weight_1 - self.lr*slope_weight\n",
    "            self.weight1_hist.append(self.weight_1)\n",
    "            \n",
    "            slope_bias = error/self.y_train.shape[0]\n",
    "            for iter_2 in range(5000):\n",
    "                for slope_bias_value in slope_bias:\n",
    "                    self.bias = self.bias - self.lr*slope_bias_value*5\n",
    "            self.bias_hist.append(self.bias)\n",
    "\n",
    "            plt.scatter(self.X_train, self.y_train)\n",
    "            t = np.linspace(-10, 10, 400)\n",
    "            a = self.parameter_a*(t)+self.parameter_b\n",
    "            b = float(self.weight_1)*(t) + float(self.bias)\n",
    "\n",
    "        plt.plot(t, b, 'b')    \n",
    "        plt.plot(t, a, 'r')  \n",
    "        plt.show()\n",
    "        \n",
    "        self.bias_hist=list(np.array(self.bias_hist).reshape(self.length,))\n",
    "        self.weight1_hist=list(np.array(self.weight1_hist).reshape(self.length,))\n",
    "    def plot_params(self):\n",
    "        plt.plot(self.weight1_hist)\n",
    "        plt.plot(self.bias_hist)\n",
    "        plt.show()\n",
    "    def r2_score(self):\n",
    "        self.y_pred = np.dot(self.X_test, self.weight_1) + self.bias\n",
    "        score = r2_score(self.y_test, self.y_pred)\n",
    "        print(score)\n",
    "    def params(self):\n",
    "        print(\"Parameter a: \" + str(float(self.weight_1)))\n",
    "        print(\"Parameter b: \" + str(float(self.bias)))\n",
    "        "
   ]
  },
  {
   "cell_type": "code",
   "execution_count": 103,
   "metadata": {},
   "outputs": [],
   "source": [
    "test = Gradient_Descent(100, 2, 3, 0.00001, 300, noise=False)"
   ]
  },
  {
   "cell_type": "code",
   "execution_count": 104,
   "metadata": {},
   "outputs": [
    {
     "data": {
      "image/png": "[encoded data removed]",
      "text/plain": [
       "<Figure size 432x288 with 1 Axes>"
      ]
     },
     "metadata": {
      "needs_background": "light"
     },
     "output_type": "display_data"
    }
   ],
   "source": [
    "test.optimize()"
   ]
  },
  {
   "cell_type": "code",
   "execution_count": 105,
   "metadata": {},
   "outputs": [
    {
     "data": {
      "image/png": "[encoded data removed]",
      "text/plain": [
       "<Figure size 432x288 with 1 Axes>"
      ]
     },
     "metadata": {
      "needs_background": "light"
     },
     "output_type": "display_data"
    }
   ],
   "source": [
    "test.plot_params()"
   ]
  },
  {
   "cell_type": "code",
   "execution_count": 106,
   "metadata": {},
   "outputs": [
    {
     "name": "stdout",
     "output_type": "stream",
     "text": [
      "1.0\n"
     ]
    }
   ],
   "source": [
    "test.r2_score()"
   ]
  },
  {
   "cell_type": "code",
   "execution_count": 107,
   "metadata": {},
   "outputs": [
    {
     "name": "stdout",
     "output_type": "stream",
     "text": [
      "Parameter a: 2.0000000000086597\n",
      "Parameter b: 3.0000000002021303\n"
     ]
    }
   ],
   "source": [
    "test.params()"
   ]
  },
  {
   "cell_type": "code",
   "execution_count": null,
   "metadata": {},
   "outputs": [],
   "source": []
  }
 ],
 "metadata": {
  "kernelspec": {
   "display_name": "Python 3",
   "language": "python",
   "name": "python3"
  },
  "language_info": {
   "codemirror_mode": {
    "name": "ipython",
    "version": 3
   },
   "file_extension": ".py",
   "mimetype": "text/x-python",
   "name": "python",
   "nbconvert_exporter": "python",
   "pygments_lexer": "ipython3",
   "version": "3.7.4"
  }
 },
 "nbformat": 4,
 "nbformat_minor": 2
}
