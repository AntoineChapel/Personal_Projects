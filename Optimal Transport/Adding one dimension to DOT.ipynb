{
 "cells": [
  {
   "cell_type": "code",
   "execution_count": 1,
   "metadata": {},
   "outputs": [],
   "source": [
    "import numpy as np\n",
    "import matplotlib.pyplot as plt\n",
    "import pandas as pd\n",
    "import scipy.sparse as spr\n",
    "from scipy.optimize import linprog\n",
    "from numba import njit\n",
    "import gurobipy as grb\n",
    "import time\n",
    "\n",
    "\n",
    "data_X = pd.read_csv(\"https://github.com/math-econ-code/mec_optim_2021-01/raw/master/data_mec_optim/marriage_personality-traits/Xvals.csv\")\n",
    "data_Y = pd.read_csv(\"https://github.com/math-econ-code/mec_optim_2021-01/raw/master/data_mec_optim/marriage_personality-traits/Yvals.csv\")\n",
    "data_affmat = pd.read_csv(\"https://github.com/math-econ-code/mec_optim_2021-01/raw/master/data_mec_optim/marriage_personality-traits/affinitymatrix.csv\")"
   ]
  },
  {
   "cell_type": "code",
   "execution_count": 2,
   "metadata": {},
   "outputs": [
    {
     "name": "stdout",
     "output_type": "stream",
     "text": [
      "Xvals shape: (1158, 10)\n",
      "Yvals shape: (1158, 10)\n",
      "Affinity Matrix shape: (10, 10)\n"
     ]
    }
   ],
   "source": [
    "nobs = 1158\n",
    "\n",
    "sdX = data_X.std().to_numpy()\n",
    "sdY = data_Y.std().to_numpy()\n",
    "mX = data_X.mean().to_numpy()\n",
    "mY = data_Y.mean().to_numpy()\n",
    "\n",
    "affmat = data_affmat.to_numpy()[0: 10, 1:]\n",
    "Xvals = ((data_X-mX)/sdX).to_numpy()[0:nobs, :]\n",
    "Yvals = ((data_Y-mY)/sdY).to_numpy()[0:nobs, :]\n",
    "print('Xvals shape:', Xvals.shape)\n",
    "print('Yvals shape:', Yvals.shape)\n",
    "print('Affinity Matrix shape:', affmat.shape)"
   ]
  },
  {
   "cell_type": "code",
   "execution_count": 3,
   "metadata": {},
   "outputs": [],
   "source": [
    "class random_panel:\n",
    "    def __init__(self, init_matrix, time=20):\n",
    "        self.time = time\n",
    "        self.init_matrix = init_matrix\n",
    "    def generate(self):\n",
    "        X_panel = np.empty((self.time, self.init_matrix.shape[0], self.init_matrix.shape[1]))\n",
    "        X_panel[0, :, :] = self.init_matrix\n",
    "        for i in range(self.time - 1):\n",
    "            X_panel[i+1, :, :] = X_panel[i, :, :] + np.random.randn(self.init_matrix.shape[0], self.init_matrix.shape[1])\n",
    "        return X_panel"
   ]
  },
  {
   "cell_type": "code",
   "execution_count": 4,
   "metadata": {},
   "outputs": [],
   "source": [
    "n = Xvals.shape[0]\n",
    "t = 15"
   ]
  },
  {
   "cell_type": "code",
   "execution_count": 5,
   "metadata": {},
   "outputs": [
    {
     "name": "stdout",
     "output_type": "stream",
     "text": [
      "(15, 1158, 10)\n",
      "(15, 10, 1158)\n",
      "(15, 1158, 1158)\n"
     ]
    }
   ],
   "source": [
    "Xvals_dyna = random_panel(Xvals, t).generate()\n",
    "Yvals_dyna = random_panel(Yvals.T, t).generate()\n",
    "\n",
    "print(Xvals_dyna.shape)\n",
    "print(Yvals_dyna.shape)\n",
    "\n",
    "phi_dyna = Xvals_dyna @ affmat @ Yvals_dyna\n",
    "print(phi_dyna.shape)\n",
    "vecphi = phi_dyna.flatten()"
   ]
  },
  {
   "cell_type": "code",
   "execution_count": 6,
   "metadata": {},
   "outputs": [],
   "source": [
    "p = np.ones((t, n, 1))/n\n",
    "q = np.ones((t, n, 1))/n\n",
    "d = np.concatenate((p,q), axis = None)\n",
    "\n",
    "sparse_one = spr.csr_matrix(np.ones(n).reshape(1, n))\n",
    "\n",
    "A = spr.kron(spr.identity(n*t), np.ones(n).reshape(1, n))\n",
    "B = spr.kron(spr.kron(spr.identity(t), sparse_one), spr.identity(n))\n",
    "\n",
    "Aconstr = spr.vstack([A, B])"
   ]
  },
  {
   "cell_type": "code",
   "execution_count": 7,
   "metadata": {
    "scrolled": true
   },
   "outputs": [
    {
     "name": "stdout",
     "output_type": "stream",
     "text": [
      "Academic license - for non-commercial use only - expires 2021-07-30\n",
      "Using license file c:\\gurobi911\\gurobi.lic\n",
      "Gurobi Optimizer version 9.1.1 build v9.1.1rc0 (win64)\n",
      "Thread count: 6 physical cores, 12 logical processors, using up to 12 threads\n",
      "Optimize a model with 34740 rows, 20114460 columns and 40228920 nonzeros\n",
      "Model fingerprint: 0xd1045040\n",
      "Coefficient statistics:\n",
      "  Matrix range     [1e+00, 1e+00]\n",
      "  Objective range  [4e-08, 1e+02]\n",
      "  Bounds range     [0e+00, 0e+00]\n",
      "  RHS range        [9e-04, 9e-04]\n",
      "\n",
      "Concurrent LP optimizer: primal simplex, dual simplex, and barrier\n",
      "Showing barrier log only...\n",
      "\n",
      "Presolve removed 0 rows and 0 columns (presolve time = 15s) ...\n",
      "Presolve removed 0 rows and 0 columns (presolve time = 21s) ...\n",
      "Presolve removed 0 rows and 0 columns (presolve time = 29s) ...\n",
      "Presolve removed 0 rows and 0 columns (presolve time = 60s) ...\n",
      "Presolve removed 0 rows and 0 columns (presolve time = 60s) ...\n",
      "Presolve removed 0 rows and 0 columns (presolve time = 65s) ...\n",
      "Presolve removed 14 rows and 0 columns (presolve time = 73s) ...\n",
      "Presolve removed 14 rows and 0 columns (presolve time = 76s) ...\n",
      "Presolve removed 14 rows and 0 columns (presolve time = 81s) ...\n",
      "Presolve removed 14 rows and 0 columns\n",
      "Presolve time: 89.88s\n",
      "Presolved: 34726 rows, 20114460 columns, 40212708 nonzeros\n",
      "\n",
      "Ordering time: 3.83s\n",
      "\n",
      "Barrier statistics:\n",
      " AA' NZ     : 2.010e+07\n",
      " Factor NZ  : 4.020e+07 (roughly 8.0 GBytes of memory)\n",
      " Factor Ops : 6.205e+10 (roughly 2 seconds per iteration)\n",
      " Threads    : 4\n",
      "\n",
      "                  Objective                Residual\n",
      "Iter       Primal          Dual         Primal    Dual     Compl     Time\n",
      "   0  -7.05442930e+03 -0.00000000e+00  1.16e+02 9.66e+01  2.15e+01   111s\n",
      "   1  -9.82963104e+03  3.25320602e+03  1.01e+00 1.42e-13  1.89e-01   117s\n",
      "   2  -9.05480785e+00  3.24809113e+03  1.30e-14 3.41e-13  1.62e-04   123s\n",
      "   3   4.70537180e+00  1.11483549e+03  1.23e-17 2.98e-13  5.52e-05   131s\n",
      "   4   2.02714987e+01  7.34879390e+02  7.95e-17 1.92e-13  3.55e-05   138s\n",
      "   5   4.20207127e+01  5.25441403e+02  2.92e-17 1.39e-13  2.40e-05   145s\n",
      "   6   7.07778976e+01  3.99043317e+02  6.29e-18 1.03e-13  1.63e-05   150s\n",
      "   7   1.03582333e+02  3.20095097e+02  1.89e-15 2.18e-12  1.08e-05   155s\n",
      "   8   1.38882430e+02  2.72597336e+02  1.14e-17 2.05e-12  6.65e-06   161s\n",
      "   9   1.69399369e+02  2.46496355e+02  1.17e-17 2.01e-12  3.83e-06   166s\n",
      "  10   1.91219948e+02  2.34519571e+02  7.48e-18 2.14e-12  2.15e-06   173s\n",
      "  11   2.02646104e+02  2.26392205e+02  4.46e-17 2.13e-12  1.18e-06   177s\n",
      "  12   2.10342066e+02  2.22696126e+02  8.46e-17 1.91e-12  6.14e-07   183s\n",
      "  13   2.14294834e+02  2.19468991e+02  5.89e-16 1.37e-12  2.57e-07   191s\n",
      "  14   2.15849379e+02  2.18344359e+02  2.27e-16 1.10e-12  1.24e-07   197s\n",
      "  15   2.16249495e+02  2.17860823e+02  1.36e-16 1.06e-12  8.01e-08   202s\n",
      "  16   2.16516193e+02  2.17440327e+02  1.74e-16 9.18e-13  4.59e-08   207s\n",
      "  17   2.16661950e+02  2.17255266e+02  3.16e-16 9.05e-13  2.95e-08   212s\n",
      "  18   2.16780232e+02  2.17015590e+02  2.60e-16 7.83e-13  1.17e-08   218s\n",
      "  19   2.16807332e+02  2.16949099e+02  7.99e-16 8.46e-13  7.05e-09   223s\n",
      "  20   2.16839051e+02  2.16885419e+02  3.27e-16 6.97e-13  2.31e-09   229s\n",
      "  21   2.16844110e+02  2.16867232e+02  8.15e-16 7.39e-13  1.15e-09   234s\n",
      "  22   2.16847930e+02  2.16858225e+02  4.42e-15 7.34e-13  5.12e-10   240s\n",
      "  23   2.16848939e+02  2.16851739e+02  3.38e-15 5.69e-13  1.39e-10   248s\n",
      "  24   2.16849342e+02  2.16849583e+02  9.14e-15 4.83e-13  1.20e-11   254s\n",
      "  25   2.16849400e+02  2.16849418e+02  1.28e-12 4.82e-13  8.68e-13   259s\n",
      "  26   2.16849404e+02  2.16849405e+02  1.35e-13 4.94e-13  8.96e-14   264s\n",
      "\n",
      "Barrier solved model in 26 iterations and 264.11 seconds\n",
      "Optimal objective 2.16849404e+02\n",
      "\n",
      "Crossover log...\n",
      "\n",
      "   16918 DPushes remaining with DInf 1.2526278e-02               267s\n",
      "    1251 DPushes remaining with DInf 2.6296403e-03               271s\n",
      "      24 DPushes remaining with DInf 4.8558408e-04               276s\n",
      "       0 DPushes remaining with DInf 4.8558408e-04               278s\n",
      "\n",
      "       1 Dual superbasic variables remain\n",
      "\n",
      "       8 PPushes remaining with PInf 0.0000000e+00               278s\n",
      "       0 PPushes remaining with PInf 0.0000000e+00               278s\n",
      "\n",
      "  Push phase complete: Pinf 0.0000000e+00, Dinf 4.8558409e-04    278s\n",
      "\n",
      "Iteration    Objective       Primal Inf.    Dual Inf.      Time\n",
      "   16928    2.1684940e+02   0.000000e+00   4.855841e-04    279s\n",
      "   16930    2.1684940e+02   0.000000e+00   0.000000e+00    290s\n",
      "\n",
      "Solved with barrier\n",
      "Solved in 16930 iterations and 295.69 seconds\n",
      "Optimal objective  2.168494040e+02\n"
     ]
    }
   ],
   "source": [
    "m=grb.Model('Optimal Marriage')\n",
    "x = m.addMVar(shape=t * n**2, name=\"x\")\n",
    "m.setObjective(vecphi @ x, grb.GRB.MAXIMIZE)\n",
    "m.addConstr(Aconstr @ x == d, name=\"Constr\")\n",
    "m.optimize()"
   ]
  },
  {
   "cell_type": "code",
   "execution_count": 8,
   "metadata": {},
   "outputs": [],
   "source": [
    "pi_panel = np.array(m.getAttr('x')).reshape(t, n, n)"
   ]
  },
  {
   "cell_type": "code",
   "execution_count": 9,
   "metadata": {},
   "outputs": [],
   "source": [
    "def matching_of_man(man):\n",
    "    for time in range(t):\n",
    "        print('Period', time+1, ': Woman', np.argwhere(pi_panel[time, man-1,:] != 0)[0][0] + 1)"
   ]
  },
  {
   "cell_type": "code",
   "execution_count": 10,
   "metadata": {},
   "outputs": [
    {
     "name": "stdout",
     "output_type": "stream",
     "text": [
      "Period 1 : Woman 576\n",
      "Period 2 : Woman 502\n",
      "Period 3 : Woman 247\n",
      "Period 4 : Woman 261\n",
      "Period 5 : Woman 1009\n",
      "Period 6 : Woman 53\n",
      "Period 7 : Woman 404\n",
      "Period 8 : Woman 562\n",
      "Period 9 : Woman 562\n",
      "Period 10 : Woman 412\n",
      "Period 11 : Woman 53\n",
      "Period 12 : Woman 261\n",
      "Period 13 : Woman 788\n",
      "Period 14 : Woman 801\n",
      "Period 15 : Woman 829\n"
     ]
    }
   ],
   "source": [
    "matching_of_man(1)"
   ]
  }
 ],
 "metadata": {
  "kernelspec": {
   "display_name": "Python 3",
   "language": "python",
   "name": "python3"
  },
  "language_info": {
   "codemirror_mode": {
    "name": "ipython",
    "version": 3
   },
   "file_extension": ".py",
   "mimetype": "text/x-python",
   "name": "python",
   "nbconvert_exporter": "python",
   "pygments_lexer": "ipython3",
   "version": "3.7.4"
  }
 },
 "nbformat": 4,
 "nbformat_minor": 2
}
