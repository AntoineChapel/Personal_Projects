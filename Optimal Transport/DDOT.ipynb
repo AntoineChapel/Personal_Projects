{
 "cells": [
  {
   "cell_type": "code",
   "execution_count": 1,
   "metadata": {},
   "outputs": [],
   "source": [
    "import numpy as np\n",
    "import matplotlib.pyplot as plt\n",
    "import pandas as pd\n",
    "import scipy.sparse as spr\n",
    "import gurobipy as grb\n",
    "\n",
    "\n",
    "data_X = pd.read_csv(\"https://github.com/math-econ-code/mec_optim_2021-01/raw/master/data_mec_optim/marriage_personality-traits/Xvals.csv\")\n",
    "data_Y = pd.read_csv(\"https://github.com/math-econ-code/mec_optim_2021-01/raw/master/data_mec_optim/marriage_personality-traits/Yvals.csv\")\n",
    "data_affmat = pd.read_csv(\"https://github.com/math-econ-code/mec_optim_2021-01/raw/master/data_mec_optim/marriage_personality-traits/affinitymatrix.csv\")"
   ]
  },
  {
   "cell_type": "code",
   "execution_count": 2,
   "metadata": {},
   "outputs": [],
   "source": [
    "class random_panel:\n",
    "    def __init__(self, init_matrix, time=20):\n",
    "        self.time = time\n",
    "        self.init_matrix = init_matrix\n",
    "    def generate(self):\n",
    "        X_panel = np.empty((self.time, self.init_matrix.shape[0], self.init_matrix.shape[1]))\n",
    "        X_panel[0, :, :] = self.init_matrix\n",
    "        for i in range(self.time - 1):\n",
    "            X_panel[i+1, :, :] = X_panel[i, :, :] + np.random.randn(self.init_matrix.shape[0], self.init_matrix.shape[1])\n",
    "        return X_panel\n",
    "    \n",
    "def matching_of_man(man, panel):\n",
    "    for time in range(t):\n",
    "        print('Period', time+1, ': Woman', np.argwhere(panel[time, man-1,:] != 0)[0][0] + 1)   "
   ]
  },
  {
   "cell_type": "code",
   "execution_count": 3,
   "metadata": {},
   "outputs": [
    {
     "name": "stdout",
     "output_type": "stream",
     "text": [
      "Xvals shape: (1158, 10)\n",
      "Yvals shape: (1158, 10)\n",
      "Affinity Matrix shape: (10, 10)\n"
     ]
    }
   ],
   "source": [
    "n = 1158\n",
    "t = 10\n",
    "\n",
    "sdX = data_X.std().to_numpy()\n",
    "sdY = data_Y.std().to_numpy()\n",
    "mX = data_X.mean().to_numpy()\n",
    "mY = data_Y.mean().to_numpy()\n",
    "\n",
    "affmat = data_affmat.to_numpy()[0: 10, 1:]\n",
    "Xvals = ((data_X-mX)/sdX).to_numpy()[0:n, :]\n",
    "Yvals = ((data_Y-mY)/sdY).to_numpy()[0:n, :]\n",
    "print('Xvals shape:', Xvals.shape)\n",
    "print('Yvals shape:', Yvals.shape)\n",
    "print('Affinity Matrix shape:', affmat.shape)"
   ]
  },
  {
   "cell_type": "code",
   "execution_count": 4,
   "metadata": {},
   "outputs": [
    {
     "name": "stdout",
     "output_type": "stream",
     "text": [
      "(10, 1158, 10)\n",
      "(10, 10, 1158)\n",
      "(10, 1158, 1158)\n"
     ]
    }
   ],
   "source": [
    "np.random.seed(42)\n",
    "\n",
    "Xvals_dyna = random_panel(Xvals, t).generate()\n",
    "Yvals_dyna = random_panel(Yvals.T, t).generate()\n",
    "print(Xvals_dyna.shape)\n",
    "print(Yvals_dyna.shape)\n",
    "\n",
    "phi_dyna = Xvals_dyna @ affmat @ Yvals_dyna\n",
    "print(phi_dyna.shape)\n",
    "\n",
    "vecphi = phi_dyna.flatten()"
   ]
  },
  {
   "cell_type": "markdown",
   "metadata": {},
   "source": [
    "# Perfectly competitive case"
   ]
  },
  {
   "cell_type": "code",
   "execution_count": 5,
   "metadata": {},
   "outputs": [
    {
     "name": "stdout",
     "output_type": "stream",
     "text": [
      "Academic license - for non-commercial use only - expires 2021-07-30\n",
      "Using license file c:\\gurobi911\\gurobi.lic\n",
      "The total surplus obtained is:  97.5328250521718\n"
     ]
    }
   ],
   "source": [
    "p = np.ones((t, n, 1))/n\n",
    "q = np.ones((t, n, 1))/n\n",
    "d = np.concatenate((p,q), axis = None)\n",
    "\n",
    "sparse_one = spr.csr_matrix(np.ones(n).reshape(1, n))\n",
    "\n",
    "A = spr.kron(spr.identity(n*t), np.ones(n).reshape(1, n))\n",
    "B = spr.kron(spr.kron(spr.identity(t), sparse_one), spr.identity(n))\n",
    "\n",
    "Aconstr = spr.vstack([A, B])\n",
    "\n",
    "m=grb.Model('Optimal Marriage')\n",
    "x = m.addMVar(shape=t * n**2, name=\"x\")\n",
    "m.setObjective(vecphi @ x, grb.GRB.MAXIMIZE)\n",
    "m.setParam('OutputFlag', False)\n",
    "m.addConstr(Aconstr @ x == d, name=\"Constr\")\n",
    "m.optimize()\n",
    "\n",
    "if m.status == grb.GRB.Status.OPTIMAL:\n",
    "    pi_panel = np.array(m.getAttr('x')).reshape(t, n, n)\n",
    "    pi_surplus = vecphi @ m.getAttr('x')\n",
    "    \n",
    "    \n",
    "print('The total surplus obtained is: ', pi_surplus)"
   ]
  },
  {
   "cell_type": "code",
   "execution_count": 6,
   "metadata": {},
   "outputs": [
    {
     "name": "stdout",
     "output_type": "stream",
     "text": [
      "Period 1 : Woman 576\n",
      "Period 2 : Woman 338\n",
      "Period 3 : Woman 716\n",
      "Period 4 : Woman 341\n",
      "Period 5 : Woman 431\n",
      "Period 6 : Woman 303\n",
      "Period 7 : Woman 756\n",
      "Period 8 : Woman 45\n",
      "Period 9 : Woman 837\n",
      "Period 10 : Woman 377\n"
     ]
    }
   ],
   "source": [
    "matching_of_man(1, pi_panel)"
   ]
  },
  {
   "cell_type": "markdown",
   "metadata": {},
   "source": [
    "# Fixed arbitrary reassignment cost case"
   ]
  },
  {
   "cell_type": "code",
   "execution_count": 7,
   "metadata": {},
   "outputs": [
    {
     "name": "stdout",
     "output_type": "stream",
     "text": [
      "With fixed reassignment cost 15, the total welfare is 97.52120653439619 \n",
      "It is 0.011912417967388504 % lower than in the perfectly competitive case\n"
     ]
    }
   ],
   "source": [
    "reassignment_cost = 15\n",
    "C = (pi_surplus/(t*n)) * reassignment_cost\n",
    "\n",
    "phi_t = phi_dyna[0, :, :]\n",
    "vecphi_t = phi_t.flatten()\n",
    "p_t = np.ones((n, 1))/n\n",
    "q_t = np.ones((n, 1))/n\n",
    "d_t = np.concatenate((p_t, q_t), axis=None)\n",
    "\n",
    "A_loop = spr.kron(sparse_one, spr.identity(n))\n",
    "B_loop = spr.kron(spr.identity(n), sparse_one)\n",
    "Aconstr_loop = spr.vstack([A_loop, B_loop])\n",
    "\n",
    "pi_panel_loop = np.empty((t, n, n))\n",
    "optimal_values_loop = []\n",
    "\n",
    "for iteration in range(t):\n",
    "    p = grb.Model('Optimal Coupling with reassignment cost')\n",
    "    x = p.addMVar(shape = n**2, name = 'x')\n",
    "    p.setObjective(vecphi_t @ x, grb.GRB.MAXIMIZE)\n",
    "    p.addConstr(Aconstr_loop @ x == d_t)\n",
    "    p.setParam('OutputFlag', False)\n",
    "    p.optimize()\n",
    "    if p.status == grb.GRB.Status.OPTIMAL:\n",
    "        optimal_values_loop.append((phi_dyna[iteration, :, :]).flatten() @ p.getAttr('x'))\n",
    "        matpi_t = np.array(p.getAttr('x')).reshape(n, n)\n",
    "        pi_panel_loop[iteration, :, :] = matpi_t\n",
    "    if iteration < t-1:\n",
    "        vecphi_t = (phi_dyna[iteration+1, :, :] + (C * n * matpi_t)).flatten()\n",
    "        \n",
    "pi_loop_surplus = np.sum(optimal_values_loop)\n",
    "welfare_loss_fixed = pi_surplus - pi_loop_surplus\n",
    "print('With fixed reassignment cost 15, the total welfare is', pi_loop_surplus, '\\nIt is', (welfare_loss_fixed/pi_surplus)*100, '% lower than in the perfectly competitive case')"
   ]
  },
  {
   "cell_type": "code",
   "execution_count": 8,
   "metadata": {},
   "outputs": [
    {
     "name": "stdout",
     "output_type": "stream",
     "text": [
      "Period 1 : Woman 576\n",
      "Period 2 : Woman 338\n",
      "Period 3 : Woman 716\n",
      "Period 4 : Woman 341\n",
      "Period 5 : Woman 431\n",
      "Period 6 : Woman 303\n",
      "Period 7 : Woman 756\n",
      "Period 8 : Woman 45\n",
      "Period 9 : Woman 837\n",
      "Period 10 : Woman 377\n"
     ]
    }
   ],
   "source": [
    "matching_of_man(1, pi_panel_loop)"
   ]
  },
  {
   "cell_type": "markdown",
   "metadata": {},
   "source": [
    "# Reassignment cost directly proportional to the surplus generated (solid couples remain)"
   ]
  },
  {
   "cell_type": "code",
   "execution_count": 9,
   "metadata": {},
   "outputs": [
    {
     "name": "stdout",
     "output_type": "stream",
     "text": [
      "With proportional reassignment cost 15, the total welfare is 95.89824859063147 \n",
      "It is 1.6759244497080588 % lower than in the perfectly competitive case\n"
     ]
    }
   ],
   "source": [
    "reassignment_cost_prop = 15\n",
    "\n",
    "\n",
    "C_prop = (pi_surplus/(t*n)) * reassignment_cost_prop\n",
    "\n",
    "phi_t_prop = phi_dyna[0, :, :]\n",
    "vecphi_t_prop = phi_t_prop.flatten()\n",
    "p_t_prop = np.ones((n, 1))/n\n",
    "q_t_prop = np.ones((n, 1))/n\n",
    "d_t_prop = np.concatenate((p_t_prop, q_t_prop), axis=None)\n",
    "\n",
    "A_loop_prop = spr.kron(sparse_one, spr.identity(n))\n",
    "B_loop_prop = spr.kron(spr.identity(n), sparse_one)\n",
    "Aconstr_loop_prop = spr.vstack([A_loop_prop, B_loop_prop])\n",
    "\n",
    "pi_panel_loop_prop = np.empty((t, n, n))\n",
    "optimal_values_loop_prop = []\n",
    "\n",
    "for iteration_prop in range(t):\n",
    "    q = grb.Model('Optimal Coupling with proportional reassignment cost')\n",
    "    x_prop = q.addMVar(shape = n**2, name = 'x')\n",
    "    q.setObjective(vecphi_t_prop @ x_prop, grb.GRB.MAXIMIZE)\n",
    "    q.addConstr(Aconstr_loop_prop @ x_prop == d_t_prop)\n",
    "    q.setParam('OutputFlag', False)\n",
    "    q.optimize()\n",
    "    if q.status == grb.GRB.Status.OPTIMAL:\n",
    "        optimal_values_loop_prop.append((phi_dyna[iteration_prop, :, :]).flatten() @ q.getAttr('x'))\n",
    "        matpi_t_prop = np.array(q.getAttr('x')).reshape(n, n)\n",
    "        pi_panel_loop_prop[iteration_prop, :, :] = matpi_t_prop\n",
    "    if iteration_prop < t-1:\n",
    "        vecphi_t_prop = (phi_dyna[iteration_prop+1, :, :] + (C_prop * n * matpi_t_prop*phi_dyna[iteration_prop, :, :])).flatten()\n",
    "        \n",
    "pi_loop_surplus_prop = np.sum(optimal_values_loop_prop)\n",
    "welfare_loss_prop = pi_surplus - pi_loop_surplus_prop\n",
    "print('With proportional reassignment cost 15, the total welfare is', pi_loop_surplus_prop, '\\nIt is', (welfare_loss_prop/pi_surplus)*100, '% lower than in the perfectly competitive case')"
   ]
  },
  {
   "cell_type": "code",
   "execution_count": 10,
   "metadata": {},
   "outputs": [
    {
     "name": "stdout",
     "output_type": "stream",
     "text": [
      "Period 1 : Woman 576\n",
      "Period 2 : Woman 338\n",
      "Period 3 : Woman 716\n",
      "Period 4 : Woman 341\n",
      "Period 5 : Woman 894\n",
      "Period 6 : Woman 894\n",
      "Period 7 : Woman 756\n",
      "Period 8 : Woman 756\n",
      "Period 9 : Woman 756\n",
      "Period 10 : Woman 377\n"
     ]
    }
   ],
   "source": [
    "matching_of_man(1, pi_panel_loop_prop)"
   ]
  }
 ],
 "metadata": {
  "kernelspec": {
   "display_name": "Python 3",
   "language": "python",
   "name": "python3"
  },
  "language_info": {
   "codemirror_mode": {
    "name": "ipython",
    "version": 3
   },
   "file_extension": ".py",
   "mimetype": "text/x-python",
   "name": "python",
   "nbconvert_exporter": "python",
   "pygments_lexer": "ipython3",
   "version": "3.7.4"
  }
 },
 "nbformat": 4,
 "nbformat_minor": 2
}
