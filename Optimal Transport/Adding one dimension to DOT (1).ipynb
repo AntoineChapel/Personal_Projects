{
 "cells": [
  {
   "cell_type": "code",
   "execution_count": 1,
   "metadata": {},
   "outputs": [],
   "source": [
    "import numpy as np\n",
    "import matplotlib.pyplot as plt\n",
    "import pandas as pd\n",
    "import scipy.sparse as spr\n",
    "import gurobipy as grb\n",
    "\n",
    "\n",
    "data_X = pd.read_csv(\"https://github.com/math-econ-code/mec_optim_2021-01/raw/master/data_mec_optim/marriage_personality-traits/Xvals.csv\")\n",
    "data_Y = pd.read_csv(\"https://github.com/math-econ-code/mec_optim_2021-01/raw/master/data_mec_optim/marriage_personality-traits/Yvals.csv\")\n",
    "data_affmat = pd.read_csv(\"https://github.com/math-econ-code/mec_optim_2021-01/raw/master/data_mec_optim/marriage_personality-traits/affinitymatrix.csv\")"
   ]
  },
  {
   "cell_type": "code",
   "execution_count": 2,
   "metadata": {},
   "outputs": [
    {
     "name": "stdout",
     "output_type": "stream",
     "text": [
      "Xvals shape: (1158, 10)\n",
      "Yvals shape: (1158, 10)\n",
      "Affinity Matrix shape: (10, 10)\n"
     ]
    }
   ],
   "source": [
    "nobs = 1158\n",
    "\n",
    "sdX = data_X.std().to_numpy()\n",
    "sdY = data_Y.std().to_numpy()\n",
    "mX = data_X.mean().to_numpy()\n",
    "mY = data_Y.mean().to_numpy()\n",
    "\n",
    "affmat = data_affmat.to_numpy()[0: 10, 1:]\n",
    "Xvals = ((data_X-mX)/sdX).to_numpy()[0:nobs, :]\n",
    "Yvals = ((data_Y-mY)/sdY).to_numpy()[0:nobs, :]\n",
    "print('Xvals shape:', Xvals.shape)\n",
    "print('Yvals shape:', Yvals.shape)\n",
    "print('Affinity Matrix shape:', affmat.shape)"
   ]
  },
  {
   "cell_type": "code",
   "execution_count": 3,
   "metadata": {},
   "outputs": [],
   "source": [
    "class random_panel:\n",
    "    def __init__(self, init_matrix, time=20):\n",
    "        self.time = time\n",
    "        self.init_matrix = init_matrix\n",
    "    def generate(self):\n",
    "        X_panel = np.empty((self.time, self.init_matrix.shape[0], self.init_matrix.shape[1]))\n",
    "        X_panel[0, :, :] = self.init_matrix\n",
    "        for i in range(self.time - 1):\n",
    "            X_panel[i+1, :, :] = X_panel[i, :, :] + np.random.randn(self.init_matrix.shape[0], self.init_matrix.shape[1])\n",
    "        return X_panel"
   ]
  },
  {
   "cell_type": "code",
   "execution_count": 4,
   "metadata": {},
   "outputs": [],
   "source": [
    "n = Xvals.shape[0]\n",
    "t = 20"
   ]
  },
  {
   "cell_type": "code",
   "execution_count": 5,
   "metadata": {},
   "outputs": [
    {
     "name": "stdout",
     "output_type": "stream",
     "text": [
      "(20, 1158, 10)\n",
      "(20, 10, 1158)\n",
      "(20, 1158, 1158)\n"
     ]
    }
   ],
   "source": [
    "np.random.seed(42)\n",
    "\n",
    "Xvals_dyna = random_panel(Xvals, t).generate()\n",
    "Yvals_dyna = random_panel(Yvals.T, t).generate()\n",
    "\n",
    "print(Xvals_dyna.shape)\n",
    "print(Yvals_dyna.shape)\n",
    "\n",
    "phi_dyna = Xvals_dyna @ affmat @ Yvals_dyna\n",
    "print(phi_dyna.shape)\n",
    "vecphi = phi_dyna.flatten()"
   ]
  },
  {
   "cell_type": "code",
   "execution_count": 6,
   "metadata": {},
   "outputs": [],
   "source": [
    "p = np.ones((t, n, 1))/n\n",
    "q = np.ones((t, n, 1))/n\n",
    "d = np.concatenate((p,q), axis = None)\n",
    "\n",
    "sparse_one = spr.csr_matrix(np.ones(n).reshape(1, n))\n",
    "\n",
    "A = spr.kron(spr.identity(n*t), np.ones(n).reshape(1, n))\n",
    "B = spr.kron(spr.kron(spr.identity(t), sparse_one), spr.identity(n))\n",
    "\n",
    "Aconstr = spr.vstack([A, B])"
   ]
  },
  {
   "cell_type": "code",
   "execution_count": 7,
   "metadata": {
    "scrolled": true
   },
   "outputs": [
    {
     "name": "stdout",
     "output_type": "stream",
     "text": [
      "Academic license - for non-commercial use only - expires 2021-07-30\n",
      "Using license file c:\\gurobi911\\gurobi.lic\n",
      "Gurobi Optimizer version 9.1.1 build v9.1.1rc0 (win64)\n",
      "Thread count: 6 physical cores, 12 logical processors, using up to 12 threads\n",
      "Optimize a model with 46320 rows, 26819280 columns and 53638560 nonzeros\n",
      "Model fingerprint: 0xdf4dfba1\n",
      "Coefficient statistics:\n",
      "  Matrix range     [1e+00, 1e+00]\n",
      "  Objective range  [2e-07, 1e+02]\n",
      "  Bounds range     [0e+00, 0e+00]\n",
      "  RHS range        [9e-04, 9e-04]\n",
      "\n",
      "Concurrent LP optimizer: primal simplex, dual simplex, and barrier\n",
      "Showing barrier log only...\n",
      "\n",
      "\n",
      "Solved with dual simplex\n",
      "Solved in 3349714 iterations and 1233.64 seconds\n",
      "Optimal objective  3.737777157e+02\n"
     ]
    }
   ],
   "source": [
    "m=grb.Model('Optimal Marriage')\n",
    "x = m.addMVar(shape=t * n**2, name=\"x\")\n",
    "m.setObjective(vecphi @ x, grb.GRB.MAXIMIZE)\n",
    "m.addConstr(Aconstr @ x == d, name=\"Constr\")\n",
    "m.optimize()"
   ]
  },
  {
   "cell_type": "code",
   "execution_count": 8,
   "metadata": {},
   "outputs": [],
   "source": [
    "pi_panel = np.array(m.getAttr('x')).reshape(t, n, n)"
   ]
  },
  {
   "cell_type": "code",
   "execution_count": 9,
   "metadata": {},
   "outputs": [],
   "source": [
    "def matching_of_man(man):\n",
    "    for time in range(t):\n",
    "        print('Period', time+1, ': Woman', np.argwhere(pi_panel[time, man-1,:] != 0)[0][0] + 1)"
   ]
  },
  {
   "cell_type": "code",
   "execution_count": 10,
   "metadata": {},
   "outputs": [
    {
     "name": "stdout",
     "output_type": "stream",
     "text": [
      "Period 1 : Woman 576\n",
      "Period 2 : Woman 730\n",
      "Period 3 : Woman 939\n",
      "Period 4 : Woman 164\n",
      "Period 5 : Woman 164\n",
      "Period 6 : Woman 7\n",
      "Period 7 : Woman 107\n",
      "Period 8 : Woman 567\n",
      "Period 9 : Woman 510\n",
      "Period 10 : Woman 303\n",
      "Period 11 : Woman 304\n",
      "Period 12 : Woman 911\n",
      "Period 13 : Woman 237\n",
      "Period 14 : Woman 586\n",
      "Period 15 : Woman 304\n",
      "Period 16 : Woman 498\n",
      "Period 17 : Woman 515\n",
      "Period 18 : Woman 739\n",
      "Period 19 : Woman 739\n",
      "Period 20 : Woman 277\n"
     ]
    }
   ],
   "source": [
    "matching_of_man(1)"
   ]
  }
 ],
 "metadata": {
  "kernelspec": {
   "display_name": "Python 3",
   "language": "python",
   "name": "python3"
  },
  "language_info": {
   "codemirror_mode": {
    "name": "ipython",
    "version": 3
   },
   "file_extension": ".py",
   "mimetype": "text/x-python",
   "name": "python",
   "nbconvert_exporter": "python",
   "pygments_lexer": "ipython3",
   "version": "3.7.4"
  }
 },
 "nbformat": 4,
 "nbformat_minor": 2
}
